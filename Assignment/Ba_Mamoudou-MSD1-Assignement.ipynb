{
 "cells": [
  {
   "cell_type": "markdown",
   "metadata": {},
   "source": [
    "# Mamoudou Ba - MSD1"
   ]
  },
  {
   "cell_type": "markdown",
   "metadata": {},
   "source": [
    "# A)Algorithme pour résoudre le système linéaire \n",
    "Vu que notre matrice A est triangulaire inférieure on va faire une descente de notre système"
   ]
  },
  {
   "cell_type": "code",
   "execution_count": 1,
   "metadata": {},
   "outputs": [],
   "source": [
    "import numpy as np\n",
    "import time"
   ]
  },
  {
   "cell_type": "code",
   "execution_count": 2,
   "metadata": {},
   "outputs": [],
   "source": [
    "\" Résolution par la méthode de remontée d'un système triangulaire inferieure \"\n",
    "def syst_tri(A,B):\n",
    "    # n est la dimension du système\n",
    "    n=len(A)\n",
    "    x = np.zeros((n,n))\n",
    "    for l in range(0,n): \n",
    "        # On initialise le vecteur x à 0\n",
    "        x[0][l]=B[0][l]/A[0][0]  \n",
    "        for i in range(1,n):\n",
    "            s = 0\n",
    "            for j in range(0,n):\n",
    "                s =s + A[i][j]*x[j][l]\n",
    "            x[i,l] = (B[i,l]-s)/A[i][i]\n",
    "            \n",
    "    return x"
   ]
  },
  {
   "cell_type": "code",
   "execution_count": 3,
   "metadata": {},
   "outputs": [
    {
     "data": {
      "text/plain": [
       "array([[  2.        ,   3.        ,   5.        ,   1.        ,\n",
       "          5.        ],\n",
       "       [  0.        , -12.        , -11.        ,   0.        ,\n",
       "         -8.        ],\n",
       "       [ -1.66666667,   2.        ,  -3.        ,  -0.33333333,\n",
       "         -1.33333333],\n",
       "       [  1.53333333,   0.2       ,   1.8       ,   0.26666667,\n",
       "          2.06666667],\n",
       "       [ -4.03809524, -11.37142857, -20.91428571,  -1.16190476,\n",
       "        -13.5047619 ]])"
      ]
     },
     "execution_count": 3,
     "metadata": {},
     "output_type": "execute_result"
    }
   ],
   "source": [
    "B = np.array([[2,3,5,1,5],[4,-6,-1,2,2],[1,3,-5,2,3],[7,-6,-10,3,4],[7,-6,-10,3,8]])\n",
    "A=np.array([[1,0,0,0,0],[2,1,0,0,0],[3,1,3,0,0],[3,2,4,5,0],[7,-6,-10,3,7]])\n",
    "syst_tri(A,B)"
   ]
  },
  {
   "cell_type": "code",
   "execution_count": 14,
   "metadata": {},
   "outputs": [
    {
     "name": "stdout",
     "output_type": "stream",
     "text": [
      "384 µs ± 60.1 µs per loop (mean ± std. dev. of 7 runs, 1000 loops each)\n"
     ]
    }
   ],
   "source": [
    "B = np.array([[2,3,5,1],[4,-6,-1,2],[1,3,-5,2],[7,-6,-10,3]])\n",
    "A=np.array([[1,0,0,0],[2,1,0,0],[3,1,3,0],[3,2,4,5]])\n",
    "%timeit syst_tri(A,B)"
   ]
  },
  {
   "cell_type": "markdown",
   "metadata": {},
   "source": [
    "### Arithmetic cost:\n",
    "n*(DIV) + n**2*n-1*(ADDITION + DIV)+ n*n-1*(SOUSTRACTION - DIV)"
   ]
  },
  {
   "cell_type": "markdown",
   "metadata": {},
   "source": [
    "# B)Implémentons une version par bloc de notre algorithme:\n",
    "On va fixer ici les lignes de notre matrice A et de la matrice B et subdiviser en bloc et le charger dans notre mémoire"
   ]
  },
  {
   "cell_type": "code",
   "execution_count": 5,
   "metadata": {},
   "outputs": [],
   "source": [
    "\" Résolution par la méthode de remontée d'un système triangulaire inferieure block méthod\"\n",
    "def syst_tri_bloc(A,B,b):\n",
    "    na=len(A)\n",
    "    p=na/b\n",
    "    x=np.zeros((na,na))\n",
    "    z=np.zeros(b)\n",
    "    r=np.zeros((b,na))\n",
    "    for m in range(0,na):\n",
    "        x[0][m]=B[0][m]/A[0][0]\n",
    "        indiceCalcul=1\n",
    "        for i in range(1,na,b):\n",
    "            for s in range(0,b):\n",
    "                if(s+i==na):\n",
    "                    break;\n",
    "                z[s]=B[i+s][m]\n",
    "            for ii in range(0,b):\n",
    "                if(i+ii==na):\n",
    "                    break\n",
    "                for jj in range(0,na):\n",
    "                        r[ii,jj]=A[ii+i][jj]\n",
    "            for l in range(0,b):\n",
    "                s=0\n",
    "                if(i+l==na):\n",
    "                    break\n",
    "                for k in range(0,na): \n",
    "                            s=s+r[l,k]*x[k][m]       \n",
    "                x[i+l][m]=(z[l]-s)/r[l][indiceCalcul]\n",
    "                indiceCalcul+=1\n",
    "\n",
    "    return x     "
   ]
  },
  {
   "cell_type": "code",
   "execution_count": 6,
   "metadata": {},
   "outputs": [
    {
     "data": {
      "text/plain": [
       "array([[  2.        ,   3.        ,   5.        ,   1.        ,\n",
       "          5.        ],\n",
       "       [  0.        , -12.        , -11.        ,   0.        ,\n",
       "         -8.        ],\n",
       "       [ -1.66666667,   2.        ,  -3.        ,  -0.33333333,\n",
       "         -1.33333333],\n",
       "       [  1.53333333,   0.2       ,   1.8       ,   0.26666667,\n",
       "          2.06666667],\n",
       "       [ -4.03809524, -11.37142857, -20.91428571,  -1.16190476,\n",
       "        -13.5047619 ]])"
      ]
     },
     "execution_count": 6,
     "metadata": {},
     "output_type": "execute_result"
    }
   ],
   "source": [
    "B = np.array([[2,3,5,1,5],[4,-6,-1,2,2],[1,3,-5,2,3],[7,-6,-10,3,4],[7,-6,-10,3,8]])\n",
    "A=np.array([[1,0,0,0,0],[2,1,0,0,0],[3,1,3,0,0],[3,2,4,5,0],[7,-6,-10,3,7]])\n",
    "syst_tri_bloc(A,B,4)"
   ]
  },
  {
   "cell_type": "code",
   "execution_count": 13,
   "metadata": {},
   "outputs": [
    {
     "name": "stdout",
     "output_type": "stream",
     "text": [
      "292 µs ± 4.89 µs per loop (mean ± std. dev. of 7 runs, 1000 loops each)\n"
     ]
    }
   ],
   "source": [
    "B = np.array([[2,3,5,1,5],[4,-6,-1,2,2],[1,3,-5,2,3],[7,-6,-10,3,4],[7,-6,-10,3,8]])\n",
    "A=np.array([[1,0,0,0,0],[2,1,0,0,0],[3,1,3,0,0],[3,2,4,5,0],[7,-6,-10,3,7]])\n",
    "%timeit syst_tri_bloc(A,B,4)"
   ]
  },
  {
   "cell_type": "markdown",
   "metadata": {},
   "source": [
    "On remarque un gain de temps considèrable comparé à notre algorithme initial"
   ]
  },
  {
   "cell_type": "markdown",
   "metadata": {},
   "source": [
    "# C)Nombre de mots échangés "
   ]
  },
  {
   "cell_type": "markdown",
   "metadata": {},
   "source": [
    "## Memory Cost\n",
    "6*Read + 5*Write + na*(2*Read + 2*Write + p*(b*(14*Read+4*Write+na*(3*Read + 2*Write))))"
   ]
  },
  {
   "cell_type": "markdown",
   "metadata": {},
   "source": [
    "# D)Intensité Arithmetique"
   ]
  },
  {
   "cell_type": "markdown",
   "metadata": {},
   "source": [
    "## Arithmetic cost\n",
    "na(DIV + p(b(SOUS + DIV + na(ADD + MUL))))"
   ]
  },
  {
   "cell_type": "markdown",
   "metadata": {},
   "source": [
    "## Computional Intensity\n",
    "ADD + MUL / (3xRead + 2xWrite)"
   ]
  },
  {
   "cell_type": "markdown",
   "metadata": {},
   "source": [
    "# E)Oui\n",
    "Notre computional Intensity est de même niveau que celui de matrice x matrice"
   ]
  }
 ],
 "metadata": {
  "kernelspec": {
   "display_name": "Python 3",
   "language": "python",
   "name": "python3"
  },
  "language_info": {
   "codemirror_mode": {
    "name": "ipython",
    "version": 3
   },
   "file_extension": ".py",
   "mimetype": "text/x-python",
   "name": "python",
   "nbconvert_exporter": "python",
   "pygments_lexer": "ipython3",
   "version": "3.8.3"
  }
 },
 "nbformat": 4,
 "nbformat_minor": 4
}
